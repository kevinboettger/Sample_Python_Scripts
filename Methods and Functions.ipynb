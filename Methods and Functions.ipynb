{
 "cells": [
  {
   "cell_type": "code",
   "execution_count": 1,
   "id": "6b3e0053",
   "metadata": {},
   "outputs": [],
   "source": [
    " def addition (num1,num2):\n",
    "        return num1 + num2"
   ]
  },
  {
   "cell_type": "code",
   "execution_count": 2,
   "id": "442060ed",
   "metadata": {},
   "outputs": [
    {
     "data": {
      "text/plain": [
       "3"
      ]
     },
     "execution_count": 2,
     "metadata": {},
     "output_type": "execute_result"
    }
   ],
   "source": [
    "addition(1,2)"
   ]
  },
  {
   "cell_type": "code",
   "execution_count": 3,
   "id": "b6c8ee21",
   "metadata": {},
   "outputs": [],
   "source": [
    "def hello():\n",
    "    print('Hello World')"
   ]
  },
  {
   "cell_type": "code",
   "execution_count": 4,
   "id": "306ec028",
   "metadata": {},
   "outputs": [
    {
     "name": "stdout",
     "output_type": "stream",
     "text": [
      "Hello World\n"
     ]
    }
   ],
   "source": [
    "hello()"
   ]
  },
  {
   "cell_type": "code",
   "execution_count": 5,
   "id": "fdf5c100",
   "metadata": {},
   "outputs": [],
   "source": [
    "#basic functions"
   ]
  },
  {
   "cell_type": "code",
   "execution_count": 10,
   "id": "2adc8c6b",
   "metadata": {},
   "outputs": [],
   "source": [
    "def say_hello():\n",
    "    print('hello')\n",
    "    print ('how are you?')"
   ]
  },
  {
   "cell_type": "code",
   "execution_count": 11,
   "id": "b5ef6aa7",
   "metadata": {},
   "outputs": [
    {
     "name": "stdout",
     "output_type": "stream",
     "text": [
      "hello\n",
      "how are you?\n"
     ]
    }
   ],
   "source": [
    "say_hello()"
   ]
  },
  {
   "cell_type": "code",
   "execution_count": 14,
   "id": "3aec5d5b",
   "metadata": {},
   "outputs": [],
   "source": [
    "def say_hello(name = 'Default'):\n",
    "    print (f'Hello {name}')"
   ]
  },
  {
   "cell_type": "code",
   "execution_count": 15,
   "id": "78f15d1d",
   "metadata": {},
   "outputs": [
    {
     "name": "stdout",
     "output_type": "stream",
     "text": [
      "Hello Kevin\n"
     ]
    }
   ],
   "source": [
    "say_hello('Kevin')"
   ]
  },
  {
   "cell_type": "code",
   "execution_count": 16,
   "id": "803a6cfa",
   "metadata": {},
   "outputs": [
    {
     "name": "stdout",
     "output_type": "stream",
     "text": [
      "Hello Default\n"
     ]
    }
   ],
   "source": [
    "say_hello()"
   ]
  },
  {
   "cell_type": "code",
   "execution_count": 17,
   "id": "8a192ec4",
   "metadata": {},
   "outputs": [],
   "source": [
    "def add_num(num1,num2):\n",
    "    return num1+num2"
   ]
  },
  {
   "cell_type": "code",
   "execution_count": 19,
   "id": "7f11dd2b",
   "metadata": {},
   "outputs": [],
   "source": [
    "result = add_num(10,20)"
   ]
  },
  {
   "cell_type": "code",
   "execution_count": 20,
   "id": "d9b2f674",
   "metadata": {},
   "outputs": [
    {
     "data": {
      "text/plain": [
       "30"
      ]
     },
     "execution_count": 20,
     "metadata": {},
     "output_type": "execute_result"
    }
   ],
   "source": [
    "result"
   ]
  },
  {
   "cell_type": "code",
   "execution_count": 21,
   "id": "c9624b02",
   "metadata": {},
   "outputs": [],
   "source": [
    "def print_result(a,b):\n",
    "    print(a+b)"
   ]
  },
  {
   "cell_type": "code",
   "execution_count": 22,
   "id": "ad450894",
   "metadata": {},
   "outputs": [],
   "source": [
    "def return_result(a,b):\n",
    "    return a+b"
   ]
  },
  {
   "cell_type": "code",
   "execution_count": 23,
   "id": "b5ce254a",
   "metadata": {},
   "outputs": [
    {
     "name": "stdout",
     "output_type": "stream",
     "text": [
      "30\n"
     ]
    }
   ],
   "source": [
    "print_result(10,20)"
   ]
  },
  {
   "cell_type": "code",
   "execution_count": 24,
   "id": "9282ea8c",
   "metadata": {},
   "outputs": [
    {
     "name": "stdout",
     "output_type": "stream",
     "text": [
      "10 20\n"
     ]
    }
   ],
   "source": [
    "result = print(10,20)"
   ]
  },
  {
   "cell_type": "code",
   "execution_count": 27,
   "id": "3e7c2ac6",
   "metadata": {},
   "outputs": [
    {
     "data": {
      "text/plain": [
       "30"
      ]
     },
     "execution_count": 27,
     "metadata": {},
     "output_type": "execute_result"
    }
   ],
   "source": [
    "return_result(10,20)"
   ]
  },
  {
   "cell_type": "code",
   "execution_count": 28,
   "id": "901d60fd",
   "metadata": {},
   "outputs": [],
   "source": [
    "result = return_result(10,20)"
   ]
  },
  {
   "cell_type": "code",
   "execution_count": 29,
   "id": "ab3a7c10",
   "metadata": {},
   "outputs": [
    {
     "data": {
      "text/plain": [
       "30"
      ]
     },
     "execution_count": 29,
     "metadata": {},
     "output_type": "execute_result"
    }
   ],
   "source": [
    "result"
   ]
  },
  {
   "cell_type": "code",
   "execution_count": 30,
   "id": "93a56dba",
   "metadata": {},
   "outputs": [],
   "source": [
    "def sum_numbers(num1,num2):\n",
    "    return num1+num2"
   ]
  },
  {
   "cell_type": "code",
   "execution_count": 31,
   "id": "d6d50597",
   "metadata": {},
   "outputs": [],
   "source": [
    "#functions with Logic"
   ]
  },
  {
   "cell_type": "code",
   "execution_count": 32,
   "id": "8c7a9dbe",
   "metadata": {},
   "outputs": [
    {
     "ename": "SyntaxError",
     "evalue": "invalid syntax (<ipython-input-32-f97430c0cc04>, line 1)",
     "output_type": "error",
     "traceback": [
      "\u001b[0;36m  File \u001b[0;32m\"<ipython-input-32-f97430c0cc04>\"\u001b[0;36m, line \u001b[0;32m1\u001b[0m\n\u001b[0;31m    2 52\u001b[0m\n\u001b[0m      ^\u001b[0m\n\u001b[0;31mSyntaxError\u001b[0m\u001b[0;31m:\u001b[0m invalid syntax\n"
     ]
    }
   ],
   "source": [
    "2 52"
   ]
  },
  {
   "cell_type": "code",
   "execution_count": 33,
   "id": "6062d0bc",
   "metadata": {},
   "outputs": [
    {
     "data": {
      "text/plain": [
       "0"
      ]
     },
     "execution_count": 33,
     "metadata": {},
     "output_type": "execute_result"
    }
   ],
   "source": [
    "2%2"
   ]
  },
  {
   "cell_type": "code",
   "execution_count": 34,
   "id": "3d032bfd",
   "metadata": {},
   "outputs": [
    {
     "data": {
      "text/plain": [
       "1"
      ]
     },
     "execution_count": 34,
     "metadata": {},
     "output_type": "execute_result"
    }
   ],
   "source": [
    "3%2"
   ]
  },
  {
   "cell_type": "code",
   "execution_count": 35,
   "id": "5d806296",
   "metadata": {},
   "outputs": [
    {
     "data": {
      "text/plain": [
       "1"
      ]
     },
     "execution_count": 35,
     "metadata": {},
     "output_type": "execute_result"
    }
   ],
   "source": [
    "5%2"
   ]
  },
  {
   "cell_type": "code",
   "execution_count": 36,
   "id": "2e76929f",
   "metadata": {},
   "outputs": [],
   "source": [
    "def even_check(number):\n",
    "    result = number % 2 == 0\n",
    "    return result"
   ]
  },
  {
   "cell_type": "code",
   "execution_count": 37,
   "id": "61d7f85a",
   "metadata": {},
   "outputs": [
    {
     "data": {
      "text/plain": [
       "True"
      ]
     },
     "execution_count": 37,
     "metadata": {},
     "output_type": "execute_result"
    }
   ],
   "source": [
    "even_check(20)"
   ]
  },
  {
   "cell_type": "code",
   "execution_count": 38,
   "id": "877e8227",
   "metadata": {},
   "outputs": [
    {
     "data": {
      "text/plain": [
       "False"
      ]
     },
     "execution_count": 38,
     "metadata": {},
     "output_type": "execute_result"
    }
   ],
   "source": [
    "even_check(21)"
   ]
  },
  {
   "cell_type": "code",
   "execution_count": 39,
   "id": "e153a518",
   "metadata": {},
   "outputs": [],
   "source": [
    "# return true if any number is even inside a list"
   ]
  },
  {
   "cell_type": "code",
   "execution_count": 78,
   "id": "cf7dfaf8",
   "metadata": {},
   "outputs": [],
   "source": [
    "def check_even_list(num_list):\n",
    "    #return all the even numbers in a list\n",
    "    \n",
    "    #placeholder variables\n",
    "    even_numbers = []\n",
    "    \n",
    "    \n",
    "    \n",
    "    for number in num_list:\n",
    "        if number % 2 == 0:\n",
    "            even_numbers.append(number)\n",
    "        else:\n",
    "            pass\n",
    "        \n",
    "    return even_numbers"
   ]
  },
  {
   "cell_type": "code",
   "execution_count": 79,
   "id": "6dba9a1c",
   "metadata": {},
   "outputs": [],
   "source": [
    "list1 = [1,3,4,2,5,6,4,2,5,4,2]"
   ]
  },
  {
   "cell_type": "code",
   "execution_count": 80,
   "id": "1ce86a3c",
   "metadata": {},
   "outputs": [
    {
     "data": {
      "text/plain": [
       "[4, 2, 6, 4, 2, 4, 2]"
      ]
     },
     "execution_count": 80,
     "metadata": {},
     "output_type": "execute_result"
    }
   ],
   "source": [
    "check_even_list(list1)"
   ]
  },
  {
   "cell_type": "code",
   "execution_count": null,
   "id": "f6a1c085",
   "metadata": {},
   "outputs": [],
   "source": []
  },
  {
   "cell_type": "code",
   "execution_count": 81,
   "id": "8efe51aa",
   "metadata": {},
   "outputs": [],
   "source": [
    "#tuple unpacking"
   ]
  },
  {
   "cell_type": "code",
   "execution_count": 82,
   "id": "66b59298",
   "metadata": {},
   "outputs": [],
   "source": [
    "stock_prices = [('APPL',200),('GOOG',400),('MSFT',100)]"
   ]
  },
  {
   "cell_type": "code",
   "execution_count": 84,
   "id": "0f89f0b8",
   "metadata": {},
   "outputs": [
    {
     "name": "stdout",
     "output_type": "stream",
     "text": [
      "('APPL', 200)\n",
      "('GOOG', 400)\n",
      "('MSFT', 100)\n"
     ]
    }
   ],
   "source": [
    "for items in stock_prices:\n",
    "    print(items)"
   ]
  },
  {
   "cell_type": "code",
   "execution_count": 88,
   "id": "ecc377f3",
   "metadata": {},
   "outputs": [
    {
     "name": "stdout",
     "output_type": "stream",
     "text": [
      "220.0\n",
      "440.0\n",
      "110.0\n"
     ]
    }
   ],
   "source": [
    "for ticker,price in stock_prices:\n",
    "    print(price+(0.1*price))"
   ]
  },
  {
   "cell_type": "code",
   "execution_count": 4,
   "id": "e331ff72",
   "metadata": {},
   "outputs": [],
   "source": [
    "work_hours = [('Abby',100),('Billy', 400),('Cassie',800)]"
   ]
  },
  {
   "cell_type": "code",
   "execution_count": 5,
   "id": "d6ee7b57",
   "metadata": {},
   "outputs": [],
   "source": [
    "#function that can go thru the tuples and pick out who worked the most"
   ]
  },
  {
   "cell_type": "code",
   "execution_count": 8,
   "id": "c89aec16",
   "metadata": {},
   "outputs": [],
   "source": [
    "def employee_check(work_hours):\n",
    "    current_max = 0\n",
    "    employee_of_month = ''\n",
    "    times_through_for_loop = 0\n",
    "    \n",
    "    for employee,hours in work_hours:\n",
    "        if hours >current_max:\n",
    "            current_max = hours\n",
    "            employee_of_month = employee\n",
    "            times_through_for_loop +=1\n",
    "            print(times_through_for_loop)\n",
    "        else:\n",
    "            pass\n",
    "    \n",
    "    \n",
    "    \n",
    "    #return tuple\n",
    "    return(employee_of_month,current_max)"
   ]
  },
  {
   "cell_type": "code",
   "execution_count": 9,
   "id": "d46d52f2",
   "metadata": {},
   "outputs": [
    {
     "name": "stdout",
     "output_type": "stream",
     "text": [
      "1\n",
      "2\n",
      "3\n"
     ]
    },
    {
     "data": {
      "text/plain": [
       "('Cassie', 800)"
      ]
     },
     "execution_count": 9,
     "metadata": {},
     "output_type": "execute_result"
    }
   ],
   "source": [
    "employee_check(work_hours)"
   ]
  },
  {
   "cell_type": "code",
   "execution_count": 10,
   "id": "afd28843",
   "metadata": {},
   "outputs": [],
   "source": [
    "#interactions between functions"
   ]
  },
  {
   "cell_type": "code",
   "execution_count": 11,
   "id": "10369e34",
   "metadata": {},
   "outputs": [],
   "source": [
    "example = [1,2,3,4,5,6,7]"
   ]
  },
  {
   "cell_type": "code",
   "execution_count": 12,
   "id": "2a3dbfbf",
   "metadata": {},
   "outputs": [],
   "source": [
    "from random import shuffle"
   ]
  },
  {
   "cell_type": "code",
   "execution_count": 13,
   "id": "5d290af9",
   "metadata": {},
   "outputs": [],
   "source": [
    "shuffle(example)"
   ]
  },
  {
   "cell_type": "code",
   "execution_count": 14,
   "id": "88bfd5b7",
   "metadata": {},
   "outputs": [
    {
     "data": {
      "text/plain": [
       "[2, 3, 6, 7, 5, 4, 1]"
      ]
     },
     "execution_count": 14,
     "metadata": {},
     "output_type": "execute_result"
    }
   ],
   "source": [
    "example"
   ]
  },
  {
   "cell_type": "code",
   "execution_count": 15,
   "id": "fc3b6309",
   "metadata": {},
   "outputs": [],
   "source": [
    "#simple Game"
   ]
  },
  {
   "cell_type": "code",
   "execution_count": 19,
   "id": "ed27c41c",
   "metadata": {},
   "outputs": [],
   "source": [
    "def shuffle_list(mylist):\n",
    "    shuffle(mylist)\n",
    "    return mylist\n",
    "    "
   ]
  },
  {
   "cell_type": "code",
   "execution_count": 20,
   "id": "339bcd69",
   "metadata": {},
   "outputs": [],
   "source": [
    "result = shuffle_list(example)"
   ]
  },
  {
   "cell_type": "code",
   "execution_count": 21,
   "id": "2ecc0aef",
   "metadata": {},
   "outputs": [
    {
     "data": {
      "text/plain": [
       "[2, 7, 5, 1, 3, 4, 6]"
      ]
     },
     "execution_count": 21,
     "metadata": {},
     "output_type": "execute_result"
    }
   ],
   "source": [
    "result"
   ]
  },
  {
   "cell_type": "code",
   "execution_count": 22,
   "id": "5e18ee09",
   "metadata": {},
   "outputs": [],
   "source": [
    "mylist = [' ','O',' ']"
   ]
  },
  {
   "cell_type": "code",
   "execution_count": 24,
   "id": "542656af",
   "metadata": {},
   "outputs": [],
   "source": [
    "def player_guess():\n",
    "    guess = ''\n",
    "    \n",
    "    while guess not in['0','1','2']:\n",
    "        guess = input('Pick a number: 0,1 or 2')\n",
    "    return int(guess)"
   ]
  },
  {
   "cell_type": "code",
   "execution_count": 26,
   "id": "06434c72",
   "metadata": {},
   "outputs": [
    {
     "name": "stdout",
     "output_type": "stream",
     "text": [
      "Pick a number: 0,1 or 21\n"
     ]
    },
    {
     "data": {
      "text/plain": [
       "1"
      ]
     },
     "execution_count": 26,
     "metadata": {},
     "output_type": "execute_result"
    }
   ],
   "source": [
    "player_guess()"
   ]
  },
  {
   "cell_type": "code",
   "execution_count": 28,
   "id": "bd1b0399",
   "metadata": {},
   "outputs": [
    {
     "name": "stdout",
     "output_type": "stream",
     "text": [
      "Pick a number: 0,1 or 21\n"
     ]
    }
   ],
   "source": [
    "myindex = player_guess()"
   ]
  },
  {
   "cell_type": "code",
   "execution_count": 29,
   "id": "7344ba30",
   "metadata": {},
   "outputs": [
    {
     "data": {
      "text/plain": [
       "1"
      ]
     },
     "execution_count": 29,
     "metadata": {},
     "output_type": "execute_result"
    }
   ],
   "source": [
    "myindex"
   ]
  },
  {
   "cell_type": "code",
   "execution_count": 31,
   "id": "fdaf7c0f",
   "metadata": {},
   "outputs": [],
   "source": [
    "def check_guess(mylist,guess):\n",
    "    if mylist[guess]=='O':\n",
    "        print(\"Correct!\")\n",
    "    else:\n",
    "        print('Wrong Guess')\n",
    "        print(mylist)"
   ]
  },
  {
   "cell_type": "code",
   "execution_count": 33,
   "id": "d8fb5f2a",
   "metadata": {},
   "outputs": [
    {
     "name": "stdout",
     "output_type": "stream",
     "text": [
      "Pick a number: 0,1 or 21\n",
      "Correct!\n"
     ]
    }
   ],
   "source": [
    "#inital list\n",
    "mylist = [' ','O',' ']\n",
    "\n",
    "#shuffle list\n",
    "mixedup_list = shuffle_list(mylist)\n",
    "\n",
    "#guess location\n",
    "guess = player_guess()\n",
    "\n",
    "#check guess\n",
    "check_guess(mixedup_list,guess)"
   ]
  },
  {
   "cell_type": "code",
   "execution_count": null,
   "id": "dcff4026",
   "metadata": {},
   "outputs": [],
   "source": []
  }
 ],
 "metadata": {
  "kernelspec": {
   "display_name": "Python 3",
   "language": "python",
   "name": "python3"
  },
  "language_info": {
   "codemirror_mode": {
    "name": "ipython",
    "version": 3
   },
   "file_extension": ".py",
   "mimetype": "text/x-python",
   "name": "python",
   "nbconvert_exporter": "python",
   "pygments_lexer": "ipython3",
   "version": "3.8.8"
  }
 },
 "nbformat": 4,
 "nbformat_minor": 5
}
